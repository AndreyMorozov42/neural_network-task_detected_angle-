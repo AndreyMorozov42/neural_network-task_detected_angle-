{
 "cells": [
  {
   "cell_type": "code",
   "execution_count": 4,
   "metadata": {},
   "outputs": [],
   "source": [
    "import numpy as np\n",
    "import cv2\n",
    "import csv\n",
    "import os\n",
    "\n",
    "# описание путей\n",
    "path = \"C:\\\\Users\\\\andmo\\\\OneDrive\\\\Desktop\\\\task_tuesday\\\\train-set\"\n",
    "name_file = \"train-set.csv\"\n",
    "\n",
    "#path = \"C:\\\\Users\\\\andmo\\\\OneDrive\\\\Desktop\\\\task_tuesday\\\\test-set\"\n",
    "#name_file = \"test-set.csv\"\n",
    "\n",
    "#path = \"C:\\\\Users\\\\andmo\\\\OneDrive\\\\Desktop\\\\task_tuesday\\\\work-set\"\n",
    "#name_file = \"work-set.csv\"\n",
    "\n",
    "# меняет текущую директорию\n",
    "os.chdir(path)\n",
    "\n",
    "# получим список файлов с разрешением .png\n",
    "files = os.listdir(path=\".\")\n",
    "        \n",
    "# для записи в файл - откроем файл\n",
    "#file_open = open(name_file, mode = \"w\", encoding = \"utf-8\")\n",
    "\n",
    "with open(name_file, mode = \"w\", encoding = \"utf-8\") as file_open:\n",
    "    \n",
    "    # для записи в файл создадим объект writer\n",
    "    file_writ = csv.writer(file_open, delimiter = \",\", lineterminator=\"\\r\")\n",
    "\n",
    "    for file in files:\n",
    "    \n",
    "        # что не имеет на окончании .png будет удалено\n",
    "        if file[-4:] != '.png':\n",
    "            files.remove(file)\n",
    "    \n",
    "        # получение массива из изображения\n",
    "        img_data = cv2.imread(file)\n",
    "        img_data = cv2.cvtColor(img_data, cv2.COLOR_BGR2GRAY)\n",
    "        img_data = ((255 - img_data.reshape(900)) / 255 * 0.99) + 0.01\n",
    "        img_data = list(img_data)\n",
    "    \n",
    "        # добавляем классификацию угла впереди массива\n",
    "        img_data.insert(0, int(file[0]))\n",
    "    \n",
    "        # записываем в файл значения массива\n",
    "        file_writ.writerow(img_data)\n"
   ]
  },
  {
   "cell_type": "code",
   "execution_count": null,
   "metadata": {},
   "outputs": [],
   "source": []
  }
 ],
 "metadata": {
  "kernelspec": {
   "display_name": "Python 3",
   "language": "python",
   "name": "python3"
  },
  "language_info": {
   "codemirror_mode": {
    "name": "ipython",
    "version": 3
   },
   "file_extension": ".py",
   "mimetype": "text/x-python",
   "name": "python",
   "nbconvert_exporter": "python",
   "pygments_lexer": "ipython3",
   "version": "3.8.5"
  }
 },
 "nbformat": 4,
 "nbformat_minor": 4
}
